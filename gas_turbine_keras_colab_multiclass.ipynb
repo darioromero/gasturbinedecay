{
  "nbformat": 4,
  "nbformat_minor": 0,
  "metadata": {
    "colab": {
      "name": "gas-turbine-keras-colab.ipynb",
      "version": "0.3.2",
      "provenance": [],
      "collapsed_sections": [],
      "toc_visible": true,
      "include_colab_link": true
    },
    "kernelspec": {
      "name": "python3",
      "display_name": "Python 3"
    },
    "accelerator": "TPU"
  },
  "cells": [
    {
      "cell_type": "markdown",
      "metadata": {
        "id": "view-in-github",
        "colab_type": "text"
      },
      "source": [
        "<a href=\"https://colab.research.google.com/github/darioromero/gasturbinedecay/blob/master/gas_turbine_keras_colab_multiclass.ipynb\" target=\"_parent\"><img src=\"https://colab.research.google.com/assets/colab-badge.svg\" alt=\"Open In Colab\"/></a>"
      ]
    },
    {
      "metadata": {
        "id": "tfeljY4msmto",
        "colab_type": "code",
        "colab": {
          "base_uri": "https://localhost:8080/",
          "height": 50
        },
        "outputId": "5af1c246-5335-4c3f-91b7-398c8b7bbb6d"
      },
      "cell_type": "code",
      "source": [
        "# TensorFlow and tf.keras\n",
        "import tensorflow as tf\n",
        "from tensorflow import keras\n",
        "from keras.models import Sequential\n",
        "from keras.layers import Dense, Flatten\n",
        "from keras.regularizers import L1L2\n",
        "\n",
        "# Helper libraries\n",
        "import numpy as np\n",
        "import pandas as pd\n",
        "import re\n",
        "import matplotlib.pyplot as plt\n",
        "import seaborn as sns\n",
        "from sklearn.model_selection import train_test_split \n",
        "from sklearn.model_selection import GridSearchCV, RandomizedSearchCV\n",
        "from sklearn.preprocessing import StandardScaler\n",
        "from keras.utils import np_utils\n",
        "\n",
        "plt.style.use('ggplot')\n",
        "\n",
        "print(tf.__version__)"
      ],
      "execution_count": 2,
      "outputs": [
        {
          "output_type": "stream",
          "text": [
            "Using TensorFlow backend.\n"
          ],
          "name": "stderr"
        },
        {
          "output_type": "stream",
          "text": [
            "1.13.1\n"
          ],
          "name": "stdout"
        }
      ]
    },
    {
      "metadata": {
        "id": "Sxg1dIRHNQ6O",
        "colab_type": "code",
        "colab": {}
      },
      "cell_type": "code",
      "source": [
        "def getDataFrame():\n",
        "    \n",
        "    # read feature names\n",
        "    data_features = [line.rstrip('\\n').split('\\t') for line in \n",
        "                     open('sample_data/features_new.txt')]\n",
        "    \n",
        "    # convert data_features in a list of column headers\n",
        "    features = []\n",
        "    for n, f in enumerate(data_features[0]):\n",
        "        value = re.sub(r'(\\[|\\]|\\(|\\))*', '', str(f))\n",
        "        features.append(value.strip().replace(\" \", \"_\"))\n",
        "\n",
        "\n",
        "    short_features = ['Lever_lp', 'Speed_knots', 'Gas_Turb_shaftTrq', \n",
        "                      'Gas_Turb_SpeedGT', 'Cntrl_PtchProp_Thrs', \n",
        "                      'Cntrl_PtchProp_ThrsN', 'Shaft_Trq_Prt', \n",
        "                      'Shaft_rpm_Prt', 'Shaft_Trq_Q', \n",
        "                      'Shaft_rpm_stbd', 'HP_Turb_temp', \n",
        "                      'Gnrtr_Gas_Speed', 'Fuel_Flow', \n",
        "                      'ABB_Tic_Cntrl', 'GT_Compr_RS', \n",
        "                      'GT_Compr_tmp', 'External_Prs', \n",
        "                      'HP_Turb_Prs', 'TCS_tic_Cntrl', \n",
        "                      'Thrst_coeff', 'Prop_stbd', \n",
        "                      'Thrst_coeff_Prt', 'Prop_Prt', \n",
        "                      'Prop_Trq_Prt', 'Prop_Trq', \n",
        "                      'Prop_Thrs_Decay_coeff', 'Prop_Trq_Decay_coeff', \n",
        "                      'Hull_Decay_coeff', 'GT_Compr_Decay_coeff', \n",
        "                      'GT_Turb_Decay_coeff']\n",
        "    \n",
        "    # read data file with no-headers\n",
        "    data_lines = [line.rstrip('\\n').split('\\t') for line in \n",
        "                  open('sample_data/data_new.txt')]\n",
        "\n",
        "    # create dataframe - print shape\n",
        "    df = pd.DataFrame(data=data_lines, columns=short_features, dtype='float')\n",
        "\n",
        "    return df"
      ],
      "execution_count": 0,
      "outputs": []
    },
    {
      "metadata": {
        "id": "fvfCFsk7u4lO",
        "colab_type": "code",
        "colab": {
          "base_uri": "https://localhost:8080/",
          "height": 67
        },
        "outputId": "8b75d876-0072-4f6b-a1fc-8cc1deab80ef"
      },
      "cell_type": "code",
      "source": [
        "# get dataframe - print shape\n",
        "df = getDataFrame()\n",
        "print(\"\\ndf(rows, cols): %s\\n\" % str(df.shape))"
      ],
      "execution_count": 45,
      "outputs": [
        {
          "output_type": "stream",
          "text": [
            "\n",
            "df(rows, cols): (589223, 30)\n",
            "\n"
          ],
          "name": "stdout"
        }
      ]
    },
    {
      "metadata": {
        "id": "7hYQzhk-QWtr",
        "colab_type": "code",
        "colab": {
          "base_uri": "https://localhost:8080/",
          "height": 50
        },
        "outputId": "f5dbb1cd-6e84-4652-9688-c2aa73c40d78"
      },
      "cell_type": "code",
      "source": [
        "df.loc[df.GT_Turb_Decay_coeff == 1.0,'GT_Turb_Decay_coeff'].value_counts()"
      ],
      "execution_count": 5,
      "outputs": [
        {
          "output_type": "execute_result",
          "data": {
            "text/plain": [
              "1.0    73675\n",
              "Name: GT_Turb_Decay_coeff, dtype: int64"
            ]
          },
          "metadata": {
            "tags": []
          },
          "execution_count": 5
        }
      ]
    },
    {
      "metadata": {
        "id": "_R4UYXk9QuFP",
        "colab_type": "code",
        "colab": {
          "base_uri": "https://localhost:8080/",
          "height": 50
        },
        "outputId": "17b18173-7afd-4f21-c392-1c748e5d8ea1"
      },
      "cell_type": "code",
      "source": [
        "df.loc[df.GT_Turb_Decay_coeff == 0.99821,'GT_Turb_Decay_coeff'].value_counts()"
      ],
      "execution_count": 6,
      "outputs": [
        {
          "output_type": "execute_result",
          "data": {
            "text/plain": [
              "0.99821    36820\n",
              "Name: GT_Turb_Decay_coeff, dtype: int64"
            ]
          },
          "metadata": {
            "tags": []
          },
          "execution_count": 6
        }
      ]
    },
    {
      "metadata": {
        "id": "BiXdN40tQ3M7",
        "colab_type": "code",
        "colab": {
          "base_uri": "https://localhost:8080/",
          "height": 50
        },
        "outputId": "485d1128-ec87-46e2-c716-7895219cc4b0"
      },
      "cell_type": "code",
      "source": [
        "df.loc[df.GT_Turb_Decay_coeff == 0.97679,'GT_Turb_Decay_coeff'].value_counts()"
      ],
      "execution_count": 7,
      "outputs": [
        {
          "output_type": "execute_result",
          "data": {
            "text/plain": [
              "0.97679    36854\n",
              "Name: GT_Turb_Decay_coeff, dtype: int64"
            ]
          },
          "metadata": {
            "tags": []
          },
          "execution_count": 7
        }
      ]
    },
    {
      "metadata": {
        "id": "6P9LgZm4R_pk",
        "colab_type": "code",
        "colab": {}
      },
      "cell_type": "code",
      "source": [
        "# Besides the group of observations on 'GT_Turb_Decay_coeff' == 1.0 where\n",
        "# the equipment is working @ 100% capacity, the other groups are almost \n",
        "# equivalent in size to the group == 1.0. \n",
        "# We are going to split the dataset in several groups after running the model\n",
        "# with only two groups simulating a binary classification.\n",
        "# Later we will split in several groups to create a multi-class model."
      ],
      "execution_count": 0,
      "outputs": []
    },
    {
      "metadata": {
        "id": "kFT4HuUJuTM9",
        "colab_type": "code",
        "colab": {
          "base_uri": "https://localhost:8080/",
          "height": 269
        },
        "outputId": "c9d75677-c728-4ecc-ebe2-8a4f05fd7635"
      },
      "cell_type": "code",
      "source": [
        "# split of data based on coefficient 'GT_Turb_Decay_coeff'\n",
        "coeff_groups = df.GT_Turb_Decay_coeff.value_counts().sort_index()\n",
        "coeff_groups.plot(kind=\"barh\");"
      ],
      "execution_count": 25,
      "outputs": [
        {
          "output_type": "display_data",
          "data": {
            "image/png": "[encoded data removed]",
            "text/plain": [
              "<Figure size 432x288 with 1 Axes>"
            ]
          },
          "metadata": {
            "tags": []
          }
        }
      ]
    },
    {
      "metadata": {
        "id": "f88UIeXLTOSG",
        "colab_type": "text"
      },
      "cell_type": "markdown",
      "source": [
        "# Binary Classfication - Logistic Regression"
      ]
    },
    {
      "metadata": {
        "id": "DK98InZStIBd",
        "colab_type": "code",
        "colab": {}
      },
      "cell_type": "code",
      "source": [
        "# filter to split last column in two-classes\n",
        "filt = (df.GT_Turb_Decay_coeff.values >= 0.98900)\n",
        "df.loc[filt, 'Target_Decay'] = 0    # equipment @ 100% capacity\n",
        "df.loc[~filt, 'Target_Decay'] = 1   # equipment below 100% capacity\n",
        "\n",
        "# remove '_coeff' columns from dataset\n",
        "df.drop(columns=['Prop_Thrs_Decay_coeff', 'Prop_Trq_Decay_coeff', \n",
        "                 'Hull_Decay_coeff', 'GT_Compr_Decay_coeff', \n",
        "                 'GT_Turb_Decay_coeff'])\n",
        "\n",
        "# create numeric arrays from dataframe\n",
        "X = df.loc[:, 'Lever_lp':'Prop_Trq'].values\n",
        "y = df.Target_Decay.values"
      ],
      "execution_count": 0,
      "outputs": []
    },
    {
      "metadata": {
        "id": "hM58WQ1ztJKl",
        "colab_type": "code",
        "colab": {}
      },
      "cell_type": "code",
      "source": [
        "# split dataset in train, test\n",
        "X_train, X_test, y_train, y_test = \\\n",
        "    train_test_split(X, y, test_size=0.20, random_state=123)\n",
        "num_features = X_train.shape[1]\n",
        "num_train_obs = X_train.shape[0]\n",
        "num_test_obs = X_test.shape[0]"
      ],
      "execution_count": 0,
      "outputs": []
    },
    {
      "metadata": {
        "id": "CcPv-EUqtjgt",
        "colab_type": "code",
        "colab": {
          "base_uri": "https://localhost:8080/",
          "height": 87
        },
        "outputId": "b0659ab5-e877-4de7-8a5d-bc604c3808cd"
      },
      "cell_type": "code",
      "source": [
        "\"\"\"\n",
        "Set up the logistic regression model\n",
        "\"\"\"\n",
        "\n",
        "model = Sequential(\n",
        "    [\n",
        "        Dense(\n",
        "            128, \n",
        "            activation='relu',\n",
        "            # input dim = number of features our data has\n",
        "            input_dim=num_features\n",
        "        ),\n",
        "        Dense(\n",
        "            64, \n",
        "            activation='relu'\n",
        "        ),\n",
        "        Dense(\n",
        "            2, \n",
        "            activation='softmax', \n",
        "            kernel_regularizer=L1L2(l1=0.0, l2=0.1)\n",
        "        )\n",
        "    ]\n",
        ")"
      ],
      "execution_count": 12,
      "outputs": [
        {
          "output_type": "stream",
          "text": [
            "WARNING:tensorflow:From /usr/local/lib/python3.6/dist-packages/tensorflow/python/framework/op_def_library.py:263: colocate_with (from tensorflow.python.framework.ops) is deprecated and will be removed in a future version.\n",
            "Instructions for updating:\n",
            "Colocations handled automatically by placer.\n"
          ],
          "name": "stdout"
        }
      ]
    },
    {
      "metadata": {
        "id": "3sShAYj8tk8l",
        "colab_type": "code",
        "colab": {}
      },
      "cell_type": "code",
      "source": [
        "# compile model\n",
        "model.compile(\n",
        "    optimizer='adam', \n",
        "    loss='sparse_categorical_crossentropy', \n",
        "    metrics=['accuracy']\n",
        ")"
      ],
      "execution_count": 0,
      "outputs": []
    },
    {
      "metadata": {
        "id": "MC5nydxRGNIN",
        "colab_type": "code",
        "colab": {
          "base_uri": "https://localhost:8080/",
          "height": 235
        },
        "outputId": "782b7d16-9f9b-4861-a518-2bd008af430c"
      },
      "cell_type": "code",
      "source": [
        "# summary of the model\n",
        "model.summary()"
      ],
      "execution_count": 14,
      "outputs": [
        {
          "output_type": "stream",
          "text": [
            "_________________________________________________________________\n",
            "Layer (type)                 Output Shape              Param #   \n",
            "=================================================================\n",
            "dense_1 (Dense)              (None, 128)               3328      \n",
            "_________________________________________________________________\n",
            "dense_2 (Dense)              (None, 64)                8256      \n",
            "_________________________________________________________________\n",
            "dense_3 (Dense)              (None, 2)                 130       \n",
            "=================================================================\n",
            "Total params: 11,714\n",
            "Trainable params: 11,714\n",
            "Non-trainable params: 0\n",
            "_________________________________________________________________\n"
          ],
          "name": "stdout"
        }
      ]
    },
    {
      "metadata": {
        "id": "JjKYuo1QtqSz",
        "colab_type": "code",
        "colab": {}
      },
      "cell_type": "code",
      "source": [
        "# scale dataset on X_train, X_test\n",
        "scaler = StandardScaler()\n",
        "\n",
        "# scaler get mu, std from X_train\n",
        "X_train = scaler.fit_transform(X_train)\n",
        "# transform X_test using scaler\n",
        "X_test = scaler.transform(X_test)"
      ],
      "execution_count": 0,
      "outputs": []
    },
    {
      "metadata": {
        "id": "10EyYUS0zu8p",
        "colab_type": "code",
        "colab": {}
      },
      "cell_type": "code",
      "source": [
        "# learn the model\n",
        "model.fit(\n",
        "    X_train, y_train, epochs=50, verbose=2 \n",
        ")"
      ],
      "execution_count": 0,
      "outputs": []
    },
    {
      "metadata": {
        "id": "HV5EFRzWyrCB",
        "colab_type": "code",
        "colab": {
          "base_uri": "https://localhost:8080/",
          "height": 67
        },
        "outputId": "e9136030-d11c-478a-ff83-1941c8d2627c"
      },
      "cell_type": "code",
      "source": [
        "# Score trained model\n",
        "scores = model.evaluate(X_test, y_test, verbose=1)\n",
        "print('Test loss:', scores[0])\n",
        "print('Test accuracy:', scores[1])"
      ],
      "execution_count": 17,
      "outputs": [
        {
          "output_type": "stream",
          "text": [
            "117845/117845 [==============================] - 2s 17us/step\n",
            "Test loss: 0.10994998279656597\n",
            "Test accuracy: 0.9449616021044592\n"
          ],
          "name": "stdout"
        }
      ]
    },
    {
      "metadata": {
        "id": "Zi-CvFuab158",
        "colab_type": "code",
        "colab": {
          "base_uri": "https://localhost:8080/",
          "height": 34
        },
        "outputId": "55ab5367-c740-4522-cad2-98dea7d03912"
      },
      "cell_type": "code",
      "source": [
        ""
      ],
      "execution_count": 136,
      "outputs": [
        {
          "output_type": "execute_result",
          "data": {
            "text/plain": [
              "[0.08804655458878194, 0.9709109423395138]"
            ]
          },
          "metadata": {
            "tags": []
          },
          "execution_count": 136
        }
      ]
    },
    {
      "metadata": {
        "id": "owHyH4eyVlr1",
        "colab_type": "code",
        "colab": {}
      },
      "cell_type": "code",
      "source": [
        "names = list(model.history.history.keys())\n",
        "values = list(model.history.history.values())"
      ],
      "execution_count": 0,
      "outputs": []
    },
    {
      "metadata": {
        "id": "lYp7s-U8XDH8",
        "colab_type": "code",
        "colab": {}
      },
      "cell_type": "code",
      "source": [
        "# x-axis sequence\n",
        "xp = np.arange(len(values[0]))"
      ],
      "execution_count": 0,
      "outputs": []
    },
    {
      "metadata": {
        "id": "eiJZaQjCctzI",
        "colab_type": "code",
        "colab": {}
      },
      "cell_type": "code",
      "source": [
        "# plot loss, accuracy\n",
        "fig, ax = plt.subplots(nrows=1, ncols=1, figsize=(10, 6))\n",
        "plt.plot(xp, values[0]) # loss\n",
        "plt.plot(xp, values[1]) # accuracy\n",
        "plt.legend(names);"
      ],
      "execution_count": 0,
      "outputs": []
    },
    {
      "metadata": {
        "id": "xcVRBlR0dMPg",
        "colab_type": "text"
      },
      "cell_type": "markdown",
      "source": [
        "# Multi-Class Classification"
      ]
    },
    {
      "metadata": {
        "id": "dPxnprjjejY2",
        "colab_type": "code",
        "colab": {
          "base_uri": "https://localhost:8080/",
          "height": 84
        },
        "outputId": "a3024742-3e1b-495d-8d9b-086de81f9d54"
      },
      "cell_type": "code",
      "source": [
        "df.GT_Turb_Decay_coeff.value_counts().sort_index(ascending=False).index"
      ],
      "execution_count": 46,
      "outputs": [
        {
          "output_type": "execute_result",
          "data": {
            "text/plain": [
              "Float64Index([    1.0, 0.99821, 0.99643, 0.99464, 0.99286, 0.99107, 0.98929,\n",
              "               0.9875, 0.98571, 0.98393, 0.98214, 0.98036, 0.97857, 0.97679,\n",
              "                0.975],\n",
              "             dtype='float64')"
            ]
          },
          "metadata": {
            "tags": []
          },
          "execution_count": 46
        }
      ]
    },
    {
      "metadata": {
        "id": "3XOQ2yX6dRIE",
        "colab_type": "code",
        "colab": {}
      },
      "cell_type": "code",
      "source": [
        "# filter to split last column in 4-classes\n",
        "# class 0: healthy function\n",
        "filt0 = (df.GT_Turb_Decay_coeff.values >= 0.99600)\n",
        "# class 1: below healthy function\n",
        "filt1 = (df.GT_Turb_Decay_coeff.values < 0.99600) & \\\n",
        "        (df.GT_Turb_Decay_coeff.values >= 0.98900)\n",
        "# class 2: concerning functioning\n",
        "filt2 = (df.GT_Turb_Decay_coeff.values < 0.98900) & \\\n",
        "        (df.GT_Turb_Decay_coeff.values >= 0.98200)\n",
        "# class 3: critical functioning\n",
        "filt3 = (df.GT_Turb_Decay_coeff.values < 0.98200)\n",
        "\n",
        "\n",
        "df.loc[filt0, 'Target_Decay'] = 0    # equipment @ 100% capacity\n",
        "df.loc[filt1, 'Target_Decay'] = 1    # equipment below 100% capacity\n",
        "df.loc[filt2, 'Target_Decay'] = 2    # equipment under concerning operation\n",
        "df.loc[filt3, 'Target_Decay'] = 3    # equipment under critical operation"
      ],
      "execution_count": 0,
      "outputs": []
    },
    {
      "metadata": {
        "id": "_XmeU8tKehob",
        "colab_type": "code",
        "colab": {}
      },
      "cell_type": "code",
      "source": [
        "# remove '_coeff' columns from dataset\n",
        "df.drop(columns=['Prop_Thrs_Decay_coeff', 'Prop_Trq_Decay_coeff', \n",
        "                 'Hull_Decay_coeff', 'GT_Compr_Decay_coeff', \n",
        "                 'GT_Turb_Decay_coeff'], inplace=True)"
      ],
      "execution_count": 0,
      "outputs": []
    },
    {
      "metadata": {
        "id": "gclbMx6nirAS",
        "colab_type": "code",
        "colab": {
          "base_uri": "https://localhost:8080/",
          "height": 286
        },
        "outputId": "6117f41a-466f-4c75-9d54-cdd83a97cfa4"
      },
      "cell_type": "code",
      "source": [
        "df.Target_Decay.value_counts().sort_index().plot(kind='barh')"
      ],
      "execution_count": 50,
      "outputs": [
        {
          "output_type": "execute_result",
          "data": {
            "text/plain": [
              "<matplotlib.axes._subplots.AxesSubplot at 0x7fd57c82fdd8>"
            ]
          },
          "metadata": {
            "tags": []
          },
          "execution_count": 50
        },
        {
          "output_type": "display_data",
          "data": {
            "image/png": "[encoded data removed]",
            "text/plain": [
              "<Figure size 432x288 with 1 Axes>"
            ]
          },
          "metadata": {
            "tags": []
          }
        }
      ]
    },
    {
      "metadata": {
        "id": "WQ_rm2FdinBt",
        "colab_type": "code",
        "colab": {}
      },
      "cell_type": "code",
      "source": [
        "# create numeric arrays from dataframe\n",
        "X = df.loc[:, 'Lever_lp':'Prop_Trq'].values\n",
        "y = df.Target_Decay.values"
      ],
      "execution_count": 0,
      "outputs": []
    },
    {
      "metadata": {
        "id": "u0LzFN1Bk1vZ",
        "colab_type": "code",
        "colab": {
          "base_uri": "https://localhost:8080/",
          "height": 269
        },
        "outputId": "2baa1253-1746-4dab-e224-a4eebf04f771"
      },
      "cell_type": "code",
      "source": [
        "# raw X: not scaled\n",
        "print(X[:3])"
      ],
      "execution_count": 53,
      "outputs": [
        {
          "output_type": "stream",
          "text": [
            "[[1.1379e+00 3.0000e+00 7.2525e+03 1.3576e+03 7.8001e+00 7.8001e+00\n",
            "  4.0835e+04 5.9448e+01 4.0835e+04 5.9448e+01 6.2667e+02 6.6687e+03\n",
            "  2.9895e-01 8.9076e+00 7.1370e+00 5.6777e+02 1.0193e+00 1.3313e+00\n",
            "  1.3746e+01 1.6701e-02 9.9080e-01 1.6701e-02 9.9080e-01 2.6763e+04\n",
            "  2.6763e+04]\n",
            " [2.0883e+00 6.0000e+00 3.9199e+03 1.3788e+03 2.7759e+01 2.7759e+01\n",
            "  6.2949e+04 6.0379e+01 6.2949e+04 6.0379e+01 4.9723e+02 6.8282e+03\n",
            "  1.3086e-01 9.2824e+00 6.6000e+00 5.5611e+02 1.0200e+00 1.2416e+00\n",
            "  2.0249e+00 5.4159e-02 1.0063e+00 5.4159e-02 1.0063e+00 4.5078e+04\n",
            "  4.5078e+04]\n",
            " [3.1438e+00 9.0000e+00 9.4465e+03 1.3867e+03 5.8429e+01 5.8429e+01\n",
            "  1.0787e+05 6.0725e+01 1.0787e+05 6.0725e+01 5.7108e+02 7.1417e+03\n",
            "  2.3766e-01 1.1925e+01 7.6004e+00 5.7686e+02 1.0209e+00 1.4260e+00\n",
            "  1.2005e+01 1.1063e-01 1.0121e+00 1.1063e-01 1.0121e+00 8.4240e+04\n",
            "  8.4240e+04]]\n"
          ],
          "name": "stdout"
        }
      ]
    },
    {
      "metadata": {
        "id": "-CubhAEZk_YQ",
        "colab_type": "code",
        "colab": {
          "base_uri": "https://localhost:8080/",
          "height": 34
        },
        "outputId": "b5fa524a-6daa-481b-dac4-ea6227079d54"
      },
      "cell_type": "code",
      "source": [
        "# raw y: not scaled\n",
        "print(y[:3])"
      ],
      "execution_count": 63,
      "outputs": [
        {
          "output_type": "stream",
          "text": [
            "[0. 0. 0.]\n"
          ],
          "name": "stdout"
        }
      ]
    },
    {
      "metadata": {
        "id": "12u9d6gWlbKf",
        "colab_type": "code",
        "colab": {}
      },
      "cell_type": "code",
      "source": [
        "# split dataset in train, test\n",
        "X_train, X_test, y_train, y_test = \\\n",
        "    train_test_split(X, y, test_size=0.20, random_state=123)\n",
        "num_features = X_train.shape[1]"
      ],
      "execution_count": 0,
      "outputs": []
    },
    {
      "metadata": {
        "id": "oXWGMzSDloOI",
        "colab_type": "code",
        "colab": {}
      },
      "cell_type": "code",
      "source": [
        "\"\"\"\n",
        "Set up the Multi-Class classification model\n",
        "\"\"\"\n",
        "\n",
        "model = Sequential(\n",
        "    [\n",
        "        Dense(\n",
        "            128, \n",
        "            activation='relu',\n",
        "            # input dim = number of features our data has\n",
        "            input_dim=num_features\n",
        "        ),\n",
        "        Dense(\n",
        "            64, \n",
        "            activation='relu'\n",
        "        ),\n",
        "        Dense(\n",
        "            4, \n",
        "            activation='softmax', \n",
        "            kernel_regularizer=L1L2(l1=0.01, l2=0.1)\n",
        "        )\n",
        "    ]\n",
        ")"
      ],
      "execution_count": 0,
      "outputs": []
    },
    {
      "metadata": {
        "id": "s5kHo3bvm097",
        "colab_type": "code",
        "colab": {}
      },
      "cell_type": "code",
      "source": [
        "# compile model\n",
        "model.compile(\n",
        "    optimizer='adam', \n",
        "    loss='sparse_categorical_crossentropy', \n",
        "    metrics=['accuracy']\n",
        ")"
      ],
      "execution_count": 0,
      "outputs": []
    },
    {
      "metadata": {
        "id": "9kks8Errm6gI",
        "colab_type": "code",
        "colab": {
          "base_uri": "https://localhost:8080/",
          "height": 235
        },
        "outputId": "11a46b40-04bb-4761-af2c-6920a0eadc76"
      },
      "cell_type": "code",
      "source": [
        "# summary of the model\n",
        "model.summary()"
      ],
      "execution_count": 68,
      "outputs": [
        {
          "output_type": "stream",
          "text": [
            "_________________________________________________________________\n",
            "Layer (type)                 Output Shape              Param #   \n",
            "=================================================================\n",
            "dense_7 (Dense)              (None, 128)               3328      \n",
            "_________________________________________________________________\n",
            "dense_8 (Dense)              (None, 64)                8256      \n",
            "_________________________________________________________________\n",
            "dense_9 (Dense)              (None, 4)                 260       \n",
            "=================================================================\n",
            "Total params: 11,844\n",
            "Trainable params: 11,844\n",
            "Non-trainable params: 0\n",
            "_________________________________________________________________\n"
          ],
          "name": "stdout"
        }
      ]
    },
    {
      "metadata": {
        "id": "jKqKzzLEm7bE",
        "colab_type": "code",
        "colab": {}
      },
      "cell_type": "code",
      "source": [
        "# scale dataset on X_train, X_test\n",
        "scaler = StandardScaler()\n",
        "\n",
        "# scaler get mu, std from X_train\n",
        "X_train = scaler.fit_transform(X_train)\n",
        "# transform X_test using scaler\n",
        "X_test = scaler.transform(X_test)"
      ],
      "execution_count": 0,
      "outputs": []
    },
    {
      "metadata": {
        "id": "DsOe4gQym7u5",
        "colab_type": "code",
        "colab": {
          "base_uri": "https://localhost:8080/",
          "height": 1714
        },
        "outputId": "15583534-a6de-4ffc-cdbf-ba570d142d0f"
      },
      "cell_type": "code",
      "source": [
        "# learn the model\n",
        "model.fit(\n",
        "    X_train, y_train, epochs=50, verbose=2\n",
        ")"
      ],
      "execution_count": 70,
      "outputs": [
        {
          "output_type": "stream",
          "text": [
            "Epoch 1/50\n",
            " - 17s - loss: 0.9411 - acc: 0.6171\n",
            "Epoch 2/50\n",
            " - 17s - loss: 0.6419 - acc: 0.7616\n",
            "Epoch 3/50\n",
            " - 17s - loss: 0.5678 - acc: 0.7856\n",
            "Epoch 4/50\n",
            " - 16s - loss: 0.5266 - acc: 0.8003\n",
            "Epoch 5/50\n",
            " - 16s - loss: 0.4959 - acc: 0.8166\n",
            "Epoch 6/50\n",
            " - 16s - loss: 0.4716 - acc: 0.8305\n",
            "Epoch 7/50\n",
            " - 16s - loss: 0.4480 - acc: 0.8428\n",
            "Epoch 8/50\n",
            " - 16s - loss: 0.4275 - acc: 0.8527\n",
            "Epoch 9/50\n",
            " - 16s - loss: 0.4061 - acc: 0.8658\n",
            "Epoch 10/50\n",
            " - 17s - loss: 0.3818 - acc: 0.8866\n",
            "Epoch 11/50\n",
            " - 16s - loss: 0.3582 - acc: 0.9048\n",
            "Epoch 12/50\n",
            " - 16s - loss: 0.3383 - acc: 0.9154\n",
            "Epoch 13/50\n",
            " - 16s - loss: 0.3216 - acc: 0.9233\n",
            "Epoch 14/50\n",
            " - 16s - loss: 0.3065 - acc: 0.9302\n",
            "Epoch 15/50\n",
            " - 16s - loss: 0.2941 - acc: 0.9342\n",
            "Epoch 16/50\n",
            " - 16s - loss: 0.2843 - acc: 0.9377\n",
            "Epoch 17/50\n",
            " - 16s - loss: 0.2717 - acc: 0.9419\n",
            "Epoch 18/50\n",
            " - 16s - loss: 0.2636 - acc: 0.9440\n",
            "Epoch 19/50\n",
            " - 16s - loss: 0.2526 - acc: 0.9482\n",
            "Epoch 20/50\n",
            " - 16s - loss: 0.2435 - acc: 0.9509\n",
            "Epoch 21/50\n",
            " - 17s - loss: 0.2366 - acc: 0.9528\n",
            "Epoch 22/50\n",
            " - 17s - loss: 0.2286 - acc: 0.9553\n",
            "Epoch 23/50\n",
            " - 16s - loss: 0.2227 - acc: 0.9566\n",
            "Epoch 24/50\n",
            " - 16s - loss: 0.2173 - acc: 0.9576\n",
            "Epoch 25/50\n",
            " - 16s - loss: 0.2087 - acc: 0.9598\n",
            "Epoch 26/50\n",
            " - 16s - loss: 0.2032 - acc: 0.9608\n",
            "Epoch 27/50\n",
            " - 16s - loss: 0.1944 - acc: 0.9617\n",
            "Epoch 28/50\n",
            " - 16s - loss: 0.1813 - acc: 0.9651\n",
            "Epoch 29/50\n",
            " - 17s - loss: 0.1781 - acc: 0.9650\n",
            "Epoch 30/50\n",
            " - 16s - loss: 0.1733 - acc: 0.9663\n",
            "Epoch 31/50\n",
            " - 16s - loss: 0.1687 - acc: 0.9674\n",
            "Epoch 32/50\n",
            " - 16s - loss: 0.1638 - acc: 0.9685\n",
            "Epoch 33/50\n",
            " - 16s - loss: 0.1598 - acc: 0.9691\n",
            "Epoch 34/50\n",
            " - 16s - loss: 0.1543 - acc: 0.9697\n",
            "Epoch 35/50\n",
            " - 16s - loss: 0.1529 - acc: 0.9696\n",
            "Epoch 36/50\n",
            " - 17s - loss: 0.1477 - acc: 0.9714\n",
            "Epoch 37/50\n",
            " - 16s - loss: 0.1441 - acc: 0.9723\n",
            "Epoch 38/50\n",
            " - 16s - loss: 0.1445 - acc: 0.9715\n",
            "Epoch 39/50\n",
            " - 16s - loss: 0.1416 - acc: 0.9728\n",
            "Epoch 40/50\n",
            " - 17s - loss: 0.1375 - acc: 0.9738\n",
            "Epoch 41/50\n",
            " - 17s - loss: 0.1360 - acc: 0.9739\n",
            "Epoch 42/50\n",
            " - 16s - loss: 0.1355 - acc: 0.9740\n",
            "Epoch 43/50\n",
            " - 16s - loss: 0.1304 - acc: 0.9757\n",
            "Epoch 44/50\n",
            " - 16s - loss: 0.1304 - acc: 0.9752\n",
            "Epoch 45/50\n",
            " - 16s - loss: 0.1297 - acc: 0.9750\n",
            "Epoch 46/50\n",
            " - 16s - loss: 0.1287 - acc: 0.9754\n",
            "Epoch 47/50\n",
            " - 17s - loss: 0.1269 - acc: 0.9756\n",
            "Epoch 48/50\n",
            " - 17s - loss: 0.1245 - acc: 0.9757\n",
            "Epoch 49/50\n",
            " - 16s - loss: 0.1214 - acc: 0.9771\n",
            "Epoch 50/50\n",
            " - 16s - loss: 0.1224 - acc: 0.9768\n"
          ],
          "name": "stdout"
        },
        {
          "output_type": "execute_result",
          "data": {
            "text/plain": [
              "<keras.callbacks.History at 0x7fd5c5657198>"
            ]
          },
          "metadata": {
            "tags": []
          },
          "execution_count": 70
        }
      ]
    },
    {
      "metadata": {
        "id": "wDz0h5h2nZhL",
        "colab_type": "code",
        "colab": {
          "base_uri": "https://localhost:8080/",
          "height": 67
        },
        "outputId": "76989355-2c47-4b3d-d3ef-f029d88c56f5"
      },
      "cell_type": "code",
      "source": [
        "# Score trained model\n",
        "scores = model.evaluate(X_test, y_test, verbose=1)\n",
        "print('Test loss:', scores[0])\n",
        "print('Test accuracy:', scores[1])"
      ],
      "execution_count": 71,
      "outputs": [
        {
          "output_type": "stream",
          "text": [
            "117845/117845 [==============================] - 2s 20us/step\n",
            "Test loss: 0.09741523329036895\n",
            "Test accuracy: 0.9936951079808223\n"
          ],
          "name": "stdout"
        }
      ]
    },
    {
      "metadata": {
        "id": "pc6UZOcPnF35",
        "colab_type": "code",
        "colab": {}
      },
      "cell_type": "code",
      "source": [
        "names = list(model.history.history.keys())\n",
        "values = list(model.history.history.values())"
      ],
      "execution_count": 0,
      "outputs": []
    },
    {
      "metadata": {
        "id": "j-_t6TNCnXw0",
        "colab_type": "code",
        "colab": {}
      },
      "cell_type": "code",
      "source": [
        "# x-axis sequence\n",
        "xp = np.arange(len(values[0]))"
      ],
      "execution_count": 0,
      "outputs": []
    },
    {
      "metadata": {
        "id": "9QAzy95DnYCo",
        "colab_type": "code",
        "colab": {
          "base_uri": "https://localhost:8080/",
          "height": 378
        },
        "outputId": "bce8b194-a41c-4a63-802a-a0fdad046921"
      },
      "cell_type": "code",
      "source": [
        "# plot loss, accuracy\n",
        "fig, ax = plt.subplots(nrows=1, ncols=1, figsize=(10, 6))\n",
        "plt.plot(xp, values[0]) # loss\n",
        "plt.plot(xp, values[1]) # accuracy\n",
        "plt.legend(names);"
      ],
      "execution_count": 74,
      "outputs": [
        {
          "output_type": "display_data",
          "data": {
            "image/png": "[encoded data removed]",
            "text/plain": [
              "<Figure size 720x432 with 1 Axes>"
            ]
          },
          "metadata": {
            "tags": []
          }
        }
      ]
    },
    {
      "metadata": {
        "id": "to6qF2-Ruh-k",
        "colab_type": "code",
        "colab": {}
      },
      "cell_type": "code",
      "source": [
        ""
      ],
      "execution_count": 0,
      "outputs": []
    }
  ]
}