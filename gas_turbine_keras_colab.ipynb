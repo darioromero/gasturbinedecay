{
  "nbformat": 4,
  "nbformat_minor": 0,
  "metadata": {
    "colab": {
      "name": "gas-turbine-keras-colab.ipynb",
      "version": "0.3.2",
      "provenance": [],
      "collapsed_sections": [],
      "toc_visible": true,
      "include_colab_link": true
    },
    "kernelspec": {
      "name": "python3",
      "display_name": "Python 3"
    },
    "accelerator": "TPU"
  },
  "cells": [
    {
      "cell_type": "markdown",
      "metadata": {
        "id": "view-in-github",
        "colab_type": "text"
      },
      "source": [
        "<a href=\"https://colab.research.google.com/github/darioromero/gasturbinedecay/blob/master/gas_turbine_keras_colab.ipynb\" target=\"_parent\"><img src=\"https://colab.research.google.com/assets/colab-badge.svg\" alt=\"Open In Colab\"/></a>"
      ]
    },
    {
      "metadata": {
        "id": "tfeljY4msmto",
        "colab_type": "code",
        "colab": {
          "base_uri": "https://localhost:8080/",
          "height": 50
        },
        "outputId": "5af1c246-5335-4c3f-91b7-398c8b7bbb6d"
      },
      "cell_type": "code",
      "source": [
        "# TensorFlow and tf.keras\n",
        "import tensorflow as tf\n",
        "from tensorflow import keras\n",
        "from keras.models import Sequential\n",
        "from keras.layers import Dense, Flatten\n",
        "from keras.regularizers import L1L2\n",
        "\n",
        "# Helper libraries\n",
        "import numpy as np\n",
        "import pandas as pd\n",
        "import re\n",
        "import matplotlib.pyplot as plt\n",
        "import seaborn as sns\n",
        "from sklearn.model_selection import train_test_split \n",
        "from sklearn.model_selection import GridSearchCV, RandomizedSearchCV\n",
        "from sklearn.preprocessing import StandardScaler\n",
        "from keras.utils import np_utils\n",
        "\n",
        "plt.style.use('ggplot')\n",
        "\n",
        "print(tf.__version__)"
      ],
      "execution_count": 2,
      "outputs": [
        {
          "output_type": "stream",
          "text": [
            "Using TensorFlow backend.\n"
          ],
          "name": "stderr"
        },
        {
          "output_type": "stream",
          "text": [
            "1.13.1\n"
          ],
          "name": "stdout"
        }
      ]
    },
    {
      "metadata": {
        "id": "Sxg1dIRHNQ6O",
        "colab_type": "code",
        "colab": {}
      },
      "cell_type": "code",
      "source": [
        "def getDataFrame():\n",
        "    \n",
        "    # read feature names\n",
        "    data_features = [line.rstrip('\\n').split('\\t') for line in \n",
        "                     open('sample_data/features_new.txt')]\n",
        "    \n",
        "    # convert data_features in a list of column headers\n",
        "    features = []\n",
        "    for n, f in enumerate(data_features[0]):\n",
        "        value = re.sub(r'(\\[|\\]|\\(|\\))*', '', str(f))\n",
        "        features.append(value.strip().replace(\" \", \"_\"))\n",
        "\n",
        "\n",
        "    short_features = ['Lever_lp', 'Speed_knots', 'Gas_Turb_shaftTrq', \n",
        "                      'Gas_Turb_SpeedGT', 'Cntrl_PtchProp_Thrs', \n",
        "                      'Cntrl_PtchProp_ThrsN', 'Shaft_Trq_Prt', \n",
        "                      'Shaft_rpm_Prt', 'Shaft_Trq_Q', \n",
        "                      'Shaft_rpm_stbd', 'HP_Turb_temp', \n",
        "                      'Gnrtr_Gas_Speed', 'Fuel_Flow', \n",
        "                      'ABB_Tic_Cntrl', 'GT_Compr_RS', \n",
        "                      'GT_Compr_tmp', 'External_Prs', \n",
        "                      'HP_Turb_Prs', 'TCS_tic_Cntrl', \n",
        "                      'Thrst_coeff', 'Prop_stbd', \n",
        "                      'Thrst_coeff_Prt', 'Prop_Prt', \n",
        "                      'Prop_Trq_Prt', 'Prop_Trq', \n",
        "                      'Prop_Thrs_Decay_coeff', 'Prop_Trq_Decay_coeff', \n",
        "                      'Hull_Decay_coeff', 'GT_Compr_Decay_coeff', \n",
        "                      'GT_Turb_Decay_coeff']\n",
        "    \n",
        "    # read data file with no-headers\n",
        "    data_lines = [line.rstrip('\\n').split('\\t') for line in \n",
        "                  open('sample_data/data_new.txt')]\n",
        "\n",
        "    # create dataframe - print shape\n",
        "    df = pd.DataFrame(data=data_lines, columns=short_features, dtype='float')\n",
        "\n",
        "    return df"
      ],
      "execution_count": 0,
      "outputs": []
    },
    {
      "metadata": {
        "id": "fvfCFsk7u4lO",
        "colab_type": "code",
        "colab": {
          "base_uri": "https://localhost:8080/",
          "height": 67
        },
        "outputId": "4099e729-7f14-4679-cb66-7089e5684b2d"
      },
      "cell_type": "code",
      "source": [
        "# get dataframe - print shape\n",
        "df = getDataFrame()\n",
        "print(\"\\ndf(rows, cols): %s\\n\" % str(df.shape))"
      ],
      "execution_count": 4,
      "outputs": [
        {
          "output_type": "stream",
          "text": [
            "\n",
            "df(rows, cols): (589223, 30)\n",
            "\n"
          ],
          "name": "stdout"
        }
      ]
    },
    {
      "metadata": {
        "id": "7hYQzhk-QWtr",
        "colab_type": "code",
        "colab": {
          "base_uri": "https://localhost:8080/",
          "height": 50
        },
        "outputId": "f5dbb1cd-6e84-4652-9688-c2aa73c40d78"
      },
      "cell_type": "code",
      "source": [
        "df.loc[df.GT_Turb_Decay_coeff == 1.0,'GT_Turb_Decay_coeff'].value_counts()"
      ],
      "execution_count": 5,
      "outputs": [
        {
          "output_type": "execute_result",
          "data": {
            "text/plain": [
              "1.0    73675\n",
              "Name: GT_Turb_Decay_coeff, dtype: int64"
            ]
          },
          "metadata": {
            "tags": []
          },
          "execution_count": 5
        }
      ]
    },
    {
      "metadata": {
        "id": "_R4UYXk9QuFP",
        "colab_type": "code",
        "colab": {
          "base_uri": "https://localhost:8080/",
          "height": 50
        },
        "outputId": "17b18173-7afd-4f21-c392-1c748e5d8ea1"
      },
      "cell_type": "code",
      "source": [
        "df.loc[df.GT_Turb_Decay_coeff == 0.99821,'GT_Turb_Decay_coeff'].value_counts()"
      ],
      "execution_count": 6,
      "outputs": [
        {
          "output_type": "execute_result",
          "data": {
            "text/plain": [
              "0.99821    36820\n",
              "Name: GT_Turb_Decay_coeff, dtype: int64"
            ]
          },
          "metadata": {
            "tags": []
          },
          "execution_count": 6
        }
      ]
    },
    {
      "metadata": {
        "id": "BiXdN40tQ3M7",
        "colab_type": "code",
        "colab": {
          "base_uri": "https://localhost:8080/",
          "height": 50
        },
        "outputId": "485d1128-ec87-46e2-c716-7895219cc4b0"
      },
      "cell_type": "code",
      "source": [
        "df.loc[df.GT_Turb_Decay_coeff == 0.97679,'GT_Turb_Decay_coeff'].value_counts()"
      ],
      "execution_count": 7,
      "outputs": [
        {
          "output_type": "execute_result",
          "data": {
            "text/plain": [
              "0.97679    36854\n",
              "Name: GT_Turb_Decay_coeff, dtype: int64"
            ]
          },
          "metadata": {
            "tags": []
          },
          "execution_count": 7
        }
      ]
    },
    {
      "metadata": {
        "id": "6P9LgZm4R_pk",
        "colab_type": "code",
        "colab": {}
      },
      "cell_type": "code",
      "source": [
        "# Besides the group of observations on 'GT_Turb_Decay_coeff' == 1.0 where\n",
        "# the equipment is working @ 100% capacity, the other groups are almost \n",
        "# equivalent in size to the group == 1.0. \n",
        "# We are going to split the dataset in several groups after running the model\n",
        "# with only two groups simulating a binary classification.\n",
        "# Later we will split in several groups to create a multi-class model."
      ],
      "execution_count": 0,
      "outputs": []
    },
    {
      "metadata": {
        "id": "kFT4HuUJuTM9",
        "colab_type": "code",
        "colab": {
          "base_uri": "https://localhost:8080/",
          "height": 269
        },
        "outputId": "3a00728a-6213-4341-88f2-761decf8e25a"
      },
      "cell_type": "code",
      "source": [
        "# split of data based on coefficient 'GT_Turb_Decay_coeff'\n",
        "coeff_groups = df.GT_Turb_Decay_coeff.value_counts().sort_index()\n",
        "coeff_groups.plot(kind=\"barh\");"
      ],
      "execution_count": 9,
      "outputs": [
        {
          "output_type": "display_data",
          "data": {
            "image/png": "[encoded data removed]",
            "text/plain": [
              "<Figure size 432x288 with 1 Axes>"
            ]
          },
          "metadata": {
            "tags": []
          }
        }
      ]
    },
    {
      "metadata": {
        "id": "f88UIeXLTOSG",
        "colab_type": "text"
      },
      "cell_type": "markdown",
      "source": [
        "# Binary Classfication - Logistic Regression"
      ]
    },
    {
      "metadata": {
        "id": "DK98InZStIBd",
        "colab_type": "code",
        "colab": {}
      },
      "cell_type": "code",
      "source": [
        "# filter to split last column in two-classes\n",
        "filt = (df.GT_Turb_Decay_coeff.values >= 0.98900)\n",
        "df.loc[filt, 'Target_Decay'] = 0    # equipment @ 100% capacity\n",
        "df.loc[~filt, 'Target_Decay'] = 1   # equipment below 100% capacity\n",
        "\n",
        "# remove '_coeff' columns from dataset\n",
        "df.drop(columns=['Prop_Thrs_Decay_coeff', 'Prop_Trq_Decay_coeff', \n",
        "                 'Hull_Decay_coeff', 'GT_Compr_Decay_coeff', \n",
        "                 'GT_Turb_Decay_coeff'])\n",
        "\n",
        "# create numeric arrays from dataframe\n",
        "X = df.loc[:, 'Lever_lp':'Prop_Trq'].values\n",
        "y = df.Target_Decay.values"
      ],
      "execution_count": 0,
      "outputs": []
    },
    {
      "metadata": {
        "id": "hM58WQ1ztJKl",
        "colab_type": "code",
        "colab": {}
      },
      "cell_type": "code",
      "source": [
        "# split dataset in train, test\n",
        "X_train, X_test, y_train, y_test = \\\n",
        "    train_test_split(X, y, test_size=0.20, random_state=123)\n",
        "num_features = X_train.shape[1]\n",
        "num_train_obs = X_train.shape[0]\n",
        "num_test_obs = X_test.shape[0]"
      ],
      "execution_count": 0,
      "outputs": []
    },
    {
      "metadata": {
        "id": "CcPv-EUqtjgt",
        "colab_type": "code",
        "colab": {
          "base_uri": "https://localhost:8080/",
          "height": 87
        },
        "outputId": "b0659ab5-e877-4de7-8a5d-bc604c3808cd"
      },
      "cell_type": "code",
      "source": [
        "\"\"\"\n",
        "Set up the logistic regression model\n",
        "\"\"\"\n",
        "\n",
        "model = Sequential(\n",
        "    [\n",
        "        Dense(\n",
        "            128, \n",
        "            activation='relu',\n",
        "            # input dim = number of features our data has\n",
        "            input_dim=num_features\n",
        "        ),\n",
        "        Dense(\n",
        "            64, \n",
        "            activation='relu'\n",
        "        ),\n",
        "        Dense(\n",
        "            2, \n",
        "            activation='softmax', \n",
        "            kernel_regularizer=L1L2(l1=0.0, l2=0.1)\n",
        "        )\n",
        "    ]\n",
        ")"
      ],
      "execution_count": 12,
      "outputs": [
        {
          "output_type": "stream",
          "text": [
            "WARNING:tensorflow:From /usr/local/lib/python3.6/dist-packages/tensorflow/python/framework/op_def_library.py:263: colocate_with (from tensorflow.python.framework.ops) is deprecated and will be removed in a future version.\n",
            "Instructions for updating:\n",
            "Colocations handled automatically by placer.\n"
          ],
          "name": "stdout"
        }
      ]
    },
    {
      "metadata": {
        "id": "3sShAYj8tk8l",
        "colab_type": "code",
        "colab": {}
      },
      "cell_type": "code",
      "source": [
        "# compile model\n",
        "model.compile(\n",
        "    optimizer='adam', \n",
        "    loss='sparse_categorical_crossentropy', \n",
        "    metrics=['accuracy']\n",
        ")"
      ],
      "execution_count": 0,
      "outputs": []
    },
    {
      "metadata": {
        "id": "MC5nydxRGNIN",
        "colab_type": "code",
        "colab": {
          "base_uri": "https://localhost:8080/",
          "height": 235
        },
        "outputId": "782b7d16-9f9b-4861-a518-2bd008af430c"
      },
      "cell_type": "code",
      "source": [
        "# summary of the model\n",
        "model.summary()"
      ],
      "execution_count": 14,
      "outputs": [
        {
          "output_type": "stream",
          "text": [
            "_________________________________________________________________\n",
            "Layer (type)                 Output Shape              Param #   \n",
            "=================================================================\n",
            "dense_1 (Dense)              (None, 128)               3328      \n",
            "_________________________________________________________________\n",
            "dense_2 (Dense)              (None, 64)                8256      \n",
            "_________________________________________________________________\n",
            "dense_3 (Dense)              (None, 2)                 130       \n",
            "=================================================================\n",
            "Total params: 11,714\n",
            "Trainable params: 11,714\n",
            "Non-trainable params: 0\n",
            "_________________________________________________________________\n"
          ],
          "name": "stdout"
        }
      ]
    },
    {
      "metadata": {
        "id": "JjKYuo1QtqSz",
        "colab_type": "code",
        "colab": {}
      },
      "cell_type": "code",
      "source": [
        "# scale dataset on X_train, X_test\n",
        "scaler = StandardScaler()\n",
        "\n",
        "# scaler get mu, std from X_train\n",
        "X_train = scaler.fit_transform(X_train)\n",
        "# transform X_test using scaler\n",
        "X_test = scaler.transform(X_test)"
      ],
      "execution_count": 0,
      "outputs": []
    },
    {
      "metadata": {
        "id": "10EyYUS0zu8p",
        "colab_type": "code",
        "colab": {}
      },
      "cell_type": "code",
      "source": [
        "# learn the model\n",
        "model.fit(\n",
        "    X_train, y_train, epochs=50, \n",
        ")"
      ],
      "execution_count": 0,
      "outputs": []
    },
    {
      "metadata": {
        "id": "HV5EFRzWyrCB",
        "colab_type": "code",
        "colab": {
          "base_uri": "https://localhost:8080/",
          "height": 67
        },
        "outputId": "e9136030-d11c-478a-ff83-1941c8d2627c"
      },
      "cell_type": "code",
      "source": [
        "# Score trained model\n",
        "scores = model.evaluate(X_test, y_test, verbose=1)\n",
        "print('Test loss:', scores[0])\n",
        "print('Test accuracy:', scores[1])"
      ],
      "execution_count": 17,
      "outputs": [
        {
          "output_type": "stream",
          "text": [
            "117845/117845 [==============================] - 2s 17us/step\n",
            "Test loss: 0.10994998279656597\n",
            "Test accuracy: 0.9449616021044592\n"
          ],
          "name": "stdout"
        }
      ]
    },
    {
      "metadata": {
        "id": "Zi-CvFuab158",
        "colab_type": "code",
        "colab": {
          "base_uri": "https://localhost:8080/",
          "height": 34
        },
        "outputId": "55ab5367-c740-4522-cad2-98dea7d03912"
      },
      "cell_type": "code",
      "source": [
        ""
      ],
      "execution_count": 136,
      "outputs": [
        {
          "output_type": "execute_result",
          "data": {
            "text/plain": [
              "[0.08804655458878194, 0.9709109423395138]"
            ]
          },
          "metadata": {
            "tags": []
          },
          "execution_count": 136
        }
      ]
    },
    {
      "metadata": {
        "id": "owHyH4eyVlr1",
        "colab_type": "code",
        "colab": {}
      },
      "cell_type": "code",
      "source": [
        "names = list(model.history.history.keys())\n",
        "values = list(model.history.history.values())"
      ],
      "execution_count": 0,
      "outputs": []
    },
    {
      "metadata": {
        "id": "lYp7s-U8XDH8",
        "colab_type": "code",
        "colab": {}
      },
      "cell_type": "code",
      "source": [
        "# x-axis sequence\n",
        "xp = np.arange(len(values[0]))"
      ],
      "execution_count": 0,
      "outputs": []
    },
    {
      "metadata": {
        "id": "xxMVCs5wWrBk",
        "colab_type": "code",
        "colab": {
          "base_uri": "https://localhost:8080/",
          "height": 378
        },
        "outputId": "7e411ff4-d1f7-4d8c-b7c5-9a994722dc9e"
      },
      "cell_type": "code",
      "source": [
        "# plot loss, accuracy\n",
        "fig, ax = plt.subplots(nrows=1, ncols=1, figsize=(10, 6))\n",
        "plt.plot(xp, values[0]) # loss\n",
        "plt.plot(xp, values[1]) # accuracy\n",
        "plt.legend(names);"
      ],
      "execution_count": 21,
      "outputs": [
        {
          "output_type": "display_data",
          "data": {
            "image/png": "[encoded data removed]",
            "text/plain": [
              "<Figure size 720x432 with 1 Axes>"
            ]
          },
          "metadata": {
            "tags": []
          }
        }
      ]
    },
    {
      "metadata": {
        "id": "NwuorE_SXf8R",
        "colab_type": "code",
        "colab": {}
      },
      "cell_type": "code",
      "source": [
        ""
      ],
      "execution_count": 0,
      "outputs": []
    }
  ]
}